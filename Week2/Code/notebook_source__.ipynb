{
 "cells": [
  {
   "cell_type": "markdown",
   "metadata": {
    "_cell_guid": "b1076dfc-b9ad-4769-8c92-a6c4dae69d19",
    "_uuid": "8f2839f25d086af736a60e9eeb907d3b93b6e0e5"
   },
   "source": [
    "# Insurance cost prediction using linear regression\n",
    "\n",
    "In this assignment we're going to use information like a person's age, sex, BMI, no. of children and smoking habit to predict the price of yearly medical bills. This kind of model is useful for insurance companies to determine the yearly insurance premium for a person. The dataset for this problem is taken from: https://www.kaggle.com/mirichoi0218/insurance\n",
    "\n",
    "\n",
    "We will create a model with the following steps:\n",
    "1. Download and explore the dataset\n",
    "2. Prepare the dataset for training\n",
    "3. Create a linear regression model\n",
    "4. Train the model to fit the data\n",
    "5. Make predictions using the trained model\n",
    "\n",
    "\n",
    "This assignment builds upon the concepts from the first 2 lectures. It will help to review these Jupyter notebooks:\n",
    "- PyTorch basics: https://jovian.ml/aakashns/01-pytorch-basics\n",
    "- Linear Regression: https://jovian.ml/aakashns/02-linear-regression\n",
    "- Logistic Regression: https://jovian.ml/aakashns/03-logistic-regression\n",
    "- Linear regression (minimal): https://jovian.ml/aakashns/housing-linear-minimal\n",
    "- Logistic regression (minimal): https://jovian.ml/aakashns/mnist-logistic-minimal\n",
    "\n",
    "As you go through this notebook, you will find a **???** in certain places. Your job is to replace the **???** with appropriate code or values, to ensure that the notebook runs properly end-to-end . In some cases, you'll be required to choose some hyperparameters (learning rate, batch size etc.). Try to experiment with the hypeparameters to get the lowest loss.\n"
   ]
  },
  {
   "cell_type": "code",
   "execution_count": 97,
   "metadata": {},
   "outputs": [
    {
     "name": "stdout",
     "output_type": "stream",
     "text": [
      "\u001b[33mWARNING: You are using pip version 20.1; however, version 20.1.1 is available.\r\n",
      "You should consider upgrading via the '/opt/conda/bin/python3.7 -m pip install --upgrade pip' command.\u001b[0m\r\n"
     ]
    }
   ],
   "source": [
    "# Uncomment and run the commands below if imports fail\n",
    "# !conda install numpy pytorch torchvision cpuonly -c pytorch -y\n",
    "# !pip install matplotlib --upgrade --quiet\n",
    "!pip install jovian --upgrade --quiet"
   ]
  },
  {
   "cell_type": "code",
   "execution_count": 98,
   "metadata": {},
   "outputs": [],
   "source": [
    "import torch\n",
    "import jovian\n",
    "import torchvision\n",
    "import torch.nn as nn\n",
    "import pandas as pd\n",
    "import matplotlib.pyplot as plt\n",
    "\n",
    "import torch.nn.functional as F\n",
    "from torchvision.datasets.utils import download_url\n",
    "from torch.utils.data import DataLoader, TensorDataset, random_split"
   ]
  },
  {
   "cell_type": "code",
   "execution_count": 99,
   "metadata": {},
   "outputs": [],
   "source": [
    "project_name='02-insurance-linear-regression' # will be used by jovian.commit"
   ]
  },
  {
   "cell_type": "markdown",
   "metadata": {},
   "source": [
    "## Step 1: Download and explore the data\n",
    "\n",
    "Let us begin by downloading the data. We'll use the `download_url` function from PyTorch to get the data as a CSV (comma-separated values) file. "
   ]
  },
  {
   "cell_type": "code",
   "execution_count": 100,
   "metadata": {
    "_cell_guid": "79c7e3d0-c299-4dcb-8224-4455121ee9b0",
    "_uuid": "d629ff2d2480ee46fbb7e2d37f6b5fab8052498a"
   },
   "outputs": [
    {
     "name": "stdout",
     "output_type": "stream",
     "text": [
      "Using downloaded and verified file: ./insurance.csv\n"
     ]
    }
   ],
   "source": [
    "DATASET_URL = \"https://hub.jovian.ml/wp-content/uploads/2020/05/insurance.csv\"\n",
    "DATA_FILENAME = \"insurance.csv\"\n",
    "download_url(DATASET_URL, '.')"
   ]
  },
  {
   "cell_type": "markdown",
   "metadata": {},
   "source": [
    "To load the dataset into memory, we'll use the `read_csv` function from the `pandas` library. The data will be loaded as a Pandas dataframe. See this short tutorial to learn more: https://data36.com/pandas-tutorial-1-basics-reading-data-files-dataframes-data-selection/"
   ]
  },
  {
   "cell_type": "code",
   "execution_count": 101,
   "metadata": {},
   "outputs": [
    {
     "data": {
      "text/plain": [
       "(   age     sex     bmi  children smoker     region      charges\n",
       " 0   19  female  27.900         0    yes  southwest  16884.92400\n",
       " 1   18    male  33.770         1     no  southeast   1725.55230\n",
       " 2   28    male  33.000         3     no  southeast   4449.46200\n",
       " 3   33    male  22.705         0     no  northwest  21984.47061\n",
       " 4   32    male  28.880         0     no  northwest   3866.85520,\n",
       "                age          bmi     children       charges\n",
       " count  1338.000000  1338.000000  1338.000000   1338.000000\n",
       " mean     39.207025    30.663397     1.094918  13270.422265\n",
       " std      14.049960     6.098187     1.205493  12110.011237\n",
       " min      18.000000    15.960000     0.000000   1121.873900\n",
       " 25%      27.000000    26.296250     0.000000   4740.287150\n",
       " 50%      39.000000    30.400000     1.000000   9382.033000\n",
       " 75%      51.000000    34.693750     2.000000  16639.912515\n",
       " max      64.000000    53.130000     5.000000  63770.428010)"
      ]
     },
     "execution_count": 101,
     "metadata": {},
     "output_type": "execute_result"
    }
   ],
   "source": [
    "dataframe_raw = pd.read_csv(DATA_FILENAME)\n",
    "dataframe_raw.head(), dataframe_raw.describe()"
   ]
  },
  {
   "cell_type": "markdown",
   "metadata": {},
   "source": [
    "We're going to do a slight customization of the data, so that you every participant receives a slightly different version of the dataset. Fill in your name below as a string (enter at least 5 characters)"
   ]
  },
  {
   "cell_type": "code",
   "execution_count": 102,
   "metadata": {},
   "outputs": [],
   "source": [
    "your_name = \"Nirmal\" # at least 5 characters"
   ]
  },
  {
   "cell_type": "markdown",
   "metadata": {},
   "source": [
    "The `customize_dataset` function will customize the dataset slightly using your name as a source of random numbers."
   ]
  },
  {
   "cell_type": "code",
   "execution_count": 103,
   "metadata": {},
   "outputs": [],
   "source": [
    "def customize_dataset(dataframe_raw, rand_str):\n",
    "    dataframe = dataframe_raw.copy(deep=True)\n",
    "    # drop some rows\n",
    "    dataframe = dataframe.sample(int(0.95*len(dataframe)), random_state=int(ord(rand_str[0])))\n",
    "    # scale input\n",
    "    dataframe.bmi = dataframe.bmi * ord(rand_str[1])/100.\n",
    "    # scale target\n",
    "    dataframe.charges = dataframe.charges * ord(rand_str[2])/100.\n",
    "    # drop column\n",
    "    if ord(rand_str[3]) % 2 == 1:\n",
    "        dataframe = dataframe.drop(['region'], axis=1)\n",
    "    return dataframe"
   ]
  },
  {
   "cell_type": "code",
   "execution_count": 104,
   "metadata": {},
   "outputs": [
    {
     "data": {
      "text/html": [
       "<div>\n",
       "<style scoped>\n",
       "    .dataframe tbody tr th:only-of-type {\n",
       "        vertical-align: middle;\n",
       "    }\n",
       "\n",
       "    .dataframe tbody tr th {\n",
       "        vertical-align: top;\n",
       "    }\n",
       "\n",
       "    .dataframe thead th {\n",
       "        text-align: right;\n",
       "    }\n",
       "</style>\n",
       "<table border=\"1\" class=\"dataframe\">\n",
       "  <thead>\n",
       "    <tr style=\"text-align: right;\">\n",
       "      <th></th>\n",
       "      <th>age</th>\n",
       "      <th>sex</th>\n",
       "      <th>bmi</th>\n",
       "      <th>children</th>\n",
       "      <th>smoker</th>\n",
       "      <th>charges</th>\n",
       "    </tr>\n",
       "  </thead>\n",
       "  <tbody>\n",
       "    <tr>\n",
       "      <th>160</th>\n",
       "      <td>42</td>\n",
       "      <td>female</td>\n",
       "      <td>27.93000</td>\n",
       "      <td>0</td>\n",
       "      <td>yes</td>\n",
       "      <td>24337.524840</td>\n",
       "    </tr>\n",
       "    <tr>\n",
       "      <th>1326</th>\n",
       "      <td>42</td>\n",
       "      <td>female</td>\n",
       "      <td>34.51350</td>\n",
       "      <td>0</td>\n",
       "      <td>no</td>\n",
       "      <td>8037.024282</td>\n",
       "    </tr>\n",
       "    <tr>\n",
       "      <th>544</th>\n",
       "      <td>54</td>\n",
       "      <td>male</td>\n",
       "      <td>31.72050</td>\n",
       "      <td>0</td>\n",
       "      <td>no</td>\n",
       "      <td>11663.909886</td>\n",
       "    </tr>\n",
       "    <tr>\n",
       "      <th>624</th>\n",
       "      <td>59</td>\n",
       "      <td>male</td>\n",
       "      <td>30.22425</td>\n",
       "      <td>0</td>\n",
       "      <td>no</td>\n",
       "      <td>13827.760131</td>\n",
       "    </tr>\n",
       "    <tr>\n",
       "      <th>914</th>\n",
       "      <td>33</td>\n",
       "      <td>male</td>\n",
       "      <td>25.83525</td>\n",
       "      <td>2</td>\n",
       "      <td>no</td>\n",
       "      <td>5993.559063</td>\n",
       "    </tr>\n",
       "  </tbody>\n",
       "</table>\n",
       "</div>"
      ],
      "text/plain": [
       "      age     sex       bmi  children smoker       charges\n",
       "160    42  female  27.93000         0    yes  24337.524840\n",
       "1326   42  female  34.51350         0     no   8037.024282\n",
       "544    54    male  31.72050         0     no  11663.909886\n",
       "624    59    male  30.22425         0     no  13827.760131\n",
       "914    33    male  25.83525         2     no   5993.559063"
      ]
     },
     "execution_count": 104,
     "metadata": {},
     "output_type": "execute_result"
    }
   ],
   "source": [
    "dataframe = customize_dataset(dataframe_raw, your_name)\n",
    "dataframe.head()"
   ]
  },
  {
   "cell_type": "markdown",
   "metadata": {},
   "source": [
    "Let us answer some basic questions about the dataset. \n",
    "\n",
    "\n",
    "**Q: How many rows does the dataset have?**"
   ]
  },
  {
   "cell_type": "code",
   "execution_count": 105,
   "metadata": {},
   "outputs": [
    {
     "data": {
      "text/plain": [
       "1271"
      ]
     },
     "execution_count": 105,
     "metadata": {},
     "output_type": "execute_result"
    }
   ],
   "source": [
    "num_rows = len(dataframe)\n",
    "num_rows"
   ]
  },
  {
   "cell_type": "markdown",
   "metadata": {},
   "source": [
    "**Q: How many columns doe the dataset have**"
   ]
  },
  {
   "cell_type": "code",
   "execution_count": 106,
   "metadata": {},
   "outputs": [
    {
     "data": {
      "text/plain": [
       "6"
      ]
     },
     "execution_count": 106,
     "metadata": {},
     "output_type": "execute_result"
    }
   ],
   "source": [
    "num_cols = len(dataframe.columns)\n",
    "num_cols"
   ]
  },
  {
   "cell_type": "markdown",
   "metadata": {},
   "source": [
    "**Q: What are the column titles of the input variables?**"
   ]
  },
  {
   "cell_type": "code",
   "execution_count": 107,
   "metadata": {},
   "outputs": [
    {
     "data": {
      "text/plain": [
       "['age', 'sex', 'bmi', 'children', 'smoker']"
      ]
     },
     "execution_count": 107,
     "metadata": {},
     "output_type": "execute_result"
    }
   ],
   "source": [
    "input_cols = list(dataframe.columns.values[:-1])\n",
    "input_cols"
   ]
  },
  {
   "cell_type": "markdown",
   "metadata": {},
   "source": [
    "**Q: Which of the input columns are non-numeric or categorial variables ?**\n",
    "\n",
    "Hint: `sex` is one of them. List the columns that are not numbers."
   ]
  },
  {
   "cell_type": "code",
   "execution_count": 108,
   "metadata": {},
   "outputs": [
    {
     "data": {
      "text/plain": [
       "['sex', 'smoker']"
      ]
     },
     "execution_count": 108,
     "metadata": {},
     "output_type": "execute_result"
    }
   ],
   "source": [
    "categorical_cols = list(dataframe.select_dtypes(include=object).columns.values)\n",
    "categorical_cols"
   ]
  },
  {
   "cell_type": "markdown",
   "metadata": {},
   "source": [
    "**Q: What are the column titles of output/target variable(s)?**"
   ]
  },
  {
   "cell_type": "code",
   "execution_count": 109,
   "metadata": {},
   "outputs": [
    {
     "data": {
      "text/plain": [
       "['charges']"
      ]
     },
     "execution_count": 109,
     "metadata": {},
     "output_type": "execute_result"
    }
   ],
   "source": [
    "output_cols = list(dataframe.columns.values[-1:])\n",
    "output_cols"
   ]
  },
  {
   "cell_type": "markdown",
   "metadata": {},
   "source": [
    "**Q: (Optional) What is the minimum, maximum and average value of the `charges` column? Can you show the distribution of values in a graph?**\n",
    "Use this data visualization cheatsheet for referece: https://jovian.ml/aakashns/dataviz-cheatsheet"
   ]
  },
  {
   "cell_type": "code",
   "execution_count": 110,
   "metadata": {},
   "outputs": [
    {
     "data": {
      "text/plain": [
       "count     1271.000000\n",
       "mean     15073.078676\n",
       "std      13733.452566\n",
       "min       1278.936246\n",
       "25%       5411.236233\n",
       "50%      10700.223882\n",
       "75%      18829.087790\n",
       "max      72698.287931\n",
       "Name: charges, dtype: float64"
      ]
     },
     "execution_count": 110,
     "metadata": {},
     "output_type": "execute_result"
    }
   ],
   "source": [
    "dataframe[\"charges\"].describe()"
   ]
  },
  {
   "cell_type": "code",
   "execution_count": 111,
   "metadata": {},
   "outputs": [
    {
     "data": {
      "image/png": "[encoded data removed]",
      "text/plain": [
       "<Figure size 432x288 with 1 Axes>"
      ]
     },
     "metadata": {
      "needs_background": "light"
     },
     "output_type": "display_data"
    }
   ],
   "source": [
    "plt.hist(dataframe.charges, bins = 100)\n",
    "plt.xlabel(\"Charges is USD($)\")\n",
    "plt.ylabel(\"People count\")\n",
    "plt.title(\"Insurance Charges vs people count\");"
   ]
  },
  {
   "cell_type": "markdown",
   "metadata": {},
   "source": [
    "Remember to commit your notebook to Jovian after every step, so that you don't lose your work."
   ]
  },
  {
   "cell_type": "code",
   "execution_count": 112,
   "metadata": {},
   "outputs": [
    {
     "data": {
      "application/javascript": [
       "window.require && require([\"base/js/namespace\"],function(Jupyter){Jupyter.notebook.save_checkpoint()})"
      ],
      "text/plain": [
       "<IPython.core.display.Javascript object>"
      ]
     },
     "metadata": {},
     "output_type": "display_data"
    },
    {
     "name": "stdout",
     "output_type": "stream",
     "text": [
      "[jovian] Attempting to save notebook..\u001b[0m\n",
      "[jovian] Updating notebook \"nirmaldeveloper-net/02-insurance-linear-regression\" on https://jovian.ml/\u001b[0m\n",
      "[jovian] Uploading notebook..\u001b[0m\n",
      "[jovian] Committed successfully! https://jovian.ml/nirmaldeveloper-net/02-insurance-linear-regression\u001b[0m\n"
     ]
    },
    {
     "data": {
      "text/plain": [
       "'https://jovian.ml/nirmaldeveloper-net/02-insurance-linear-regression'"
      ]
     },
     "execution_count": 112,
     "metadata": {},
     "output_type": "execute_result"
    }
   ],
   "source": [
    "jovian.commit(project=project_name, environment=None)"
   ]
  },
  {
   "cell_type": "markdown",
   "metadata": {},
   "source": [
    "## Step 2: Prepare the dataset for training\n",
    "\n",
    "We need to convert the data from the Pandas dataframe into a PyTorch tensors for training. To do this, the first step is to convert it numpy arrays. If you've filled out `input_cols`, `categorial_cols` and `output_cols` correctly, this following function will perform the conversion to numpy arrays."
   ]
  },
  {
   "cell_type": "code",
   "execution_count": 113,
   "metadata": {},
   "outputs": [],
   "source": [
    "def dataframe_to_arrays(dataframe):\n",
    "    # Make a copy of the original dataframe\n",
    "    dataframe1 = dataframe.copy(deep=True)\n",
    "    # Convert non-numeric categorical columns to numbers\n",
    "    for col in categorical_cols:\n",
    "        dataframe1[col] = dataframe1[col].astype('category').cat.codes\n",
    "    # Extract input & outupts as numpy arrays\n",
    "    inputs_array = dataframe1[input_cols].to_numpy()\n",
    "    targets_array = dataframe1[output_cols].to_numpy()\n",
    "    return inputs_array, targets_array"
   ]
  },
  {
   "cell_type": "markdown",
   "metadata": {},
   "source": [
    "Read through the [Pandas documentation](https://pandas.pydata.org/pandas-docs/stable/user_guide/categorical.html) to understand how we're converting categorical variables into numbers."
   ]
  },
  {
   "cell_type": "code",
   "execution_count": 114,
   "metadata": {},
   "outputs": [
    {
     "name": "stdout",
     "output_type": "stream",
     "text": [
      "['charges']\n",
      "['age', 'sex', 'bmi', 'children', 'smoker']\n"
     ]
    },
    {
     "data": {
      "text/plain": [
       "(array([[42.     ,  0.     , 27.93   ,  0.     ,  1.     ],\n",
       "        [42.     ,  0.     , 34.5135 ,  0.     ,  0.     ],\n",
       "        [54.     ,  1.     , 31.7205 ,  0.     ,  0.     ],\n",
       "        ...,\n",
       "        [40.     ,  0.     , 26.733  ,  1.     ,  0.     ],\n",
       "        [55.     ,  1.     , 39.60075,  3.     ,  0.     ],\n",
       "        [36.     ,  1.     , 29.42625,  1.     ,  1.     ]]),\n",
       " array([[24337.52484 ],\n",
       "        [ 8037.024282],\n",
       "        [11663.909886],\n",
       "        ...,\n",
       "        [ 8067.995916],\n",
       "        [34272.481827],\n",
       "        [23681.935635]]))"
      ]
     },
     "execution_count": 114,
     "metadata": {},
     "output_type": "execute_result"
    }
   ],
   "source": [
    "print(output_cols), print(input_cols)\n",
    "inputs_array, targets_array = dataframe_to_arrays(dataframe)\n",
    "inputs_array, targets_array"
   ]
  },
  {
   "cell_type": "markdown",
   "metadata": {},
   "source": [
    "**Q: Convert the numpy arrays `inputs_array` and `targets_array` into PyTorch tensors. Make sure that the data type is `torch.float32`.**"
   ]
  },
  {
   "cell_type": "code",
   "execution_count": 115,
   "metadata": {},
   "outputs": [],
   "source": [
    "inputs = torch.tensor(inputs_array, dtype = torch.float32)\n",
    "targets = torch.tensor(targets_array, dtype= torch.float32)"
   ]
  },
  {
   "cell_type": "code",
   "execution_count": 116,
   "metadata": {},
   "outputs": [
    {
     "data": {
      "text/plain": [
       "(torch.float32, torch.float32)"
      ]
     },
     "execution_count": 116,
     "metadata": {},
     "output_type": "execute_result"
    }
   ],
   "source": [
    "inputs.dtype, targets.dtype"
   ]
  },
  {
   "cell_type": "markdown",
   "metadata": {},
   "source": [
    "Next, we need to create PyTorch datasets & data loaders for training & validation. We'll start by creating a `TensorDataset`."
   ]
  },
  {
   "cell_type": "code",
   "execution_count": 117,
   "metadata": {},
   "outputs": [],
   "source": [
    "dataset = TensorDataset(inputs, targets)"
   ]
  },
  {
   "cell_type": "markdown",
   "metadata": {},
   "source": [
    "**Q: Pick a number between `0.1` and `0.2` to determine the fraction of data that will be used for creating the validation set. Then use `random_split` to create training & validation datasets. **"
   ]
  },
  {
   "cell_type": "code",
   "execution_count": 118,
   "metadata": {},
   "outputs": [],
   "source": [
    "val_percent = 0.17 # between 0.1 and 0.2\n",
    "val_size = int(num_rows * val_percent)\n",
    "train_size = num_rows - val_size\n",
    "\n",
    "\n",
    "train_ds, val_ds = random_split(dataset,[train_size, val_size]) # Use the random_split function to split dataset into 2 parts of the desired length"
   ]
  },
  {
   "cell_type": "markdown",
   "metadata": {},
   "source": [
    "Finally, we can create data loaders for training & validation.\n",
    "\n",
    "**Q: Pick a batch size for the data loader.**"
   ]
  },
  {
   "cell_type": "code",
   "execution_count": 119,
   "metadata": {},
   "outputs": [
    {
     "data": {
      "text/plain": [
       "(1055, 216)"
      ]
     },
     "execution_count": 119,
     "metadata": {},
     "output_type": "execute_result"
    }
   ],
   "source": [
    "len(train_ds), len(val_ds)"
   ]
  },
  {
   "cell_type": "code",
   "execution_count": 120,
   "metadata": {},
   "outputs": [],
   "source": [
    "batch_size = 243"
   ]
  },
  {
   "cell_type": "code",
   "execution_count": 121,
   "metadata": {},
   "outputs": [
    {
     "data": {
      "text/plain": [
       "(5,\n",
       " 1,\n",
       " <torch.utils.data.dataset.TensorDataset at 0x7f87457e13d0>,\n",
       " <torch.utils.data.dataset.TensorDataset at 0x7f87457e13d0>)"
      ]
     },
     "execution_count": 121,
     "metadata": {},
     "output_type": "execute_result"
    }
   ],
   "source": [
    "train_loader = DataLoader(train_ds, batch_size, shuffle=True)\n",
    "val_loader = DataLoader(val_ds, batch_size)\n",
    "len(train_loader), len(val_loader), train_loader.dataset.dataset, val_loader.dataset.dataset"
   ]
  },
  {
   "cell_type": "markdown",
   "metadata": {},
   "source": [
    "Let's look at a batch of data to verify everything is working fine so far."
   ]
  },
  {
   "cell_type": "code",
   "execution_count": 122,
   "metadata": {},
   "outputs": [
    {
     "name": "stdout",
     "output_type": "stream",
     "text": [
      "inputs: tensor([[34.0000,  1.0000, 35.9205,  0.0000,  0.0000],\n",
      "        [43.0000,  1.0000, 27.3315,  0.0000,  0.0000],\n",
      "        [50.0000,  0.0000, 48.3945,  1.0000,  0.0000],\n",
      "        ...,\n",
      "        [19.0000,  1.0000, 29.8200,  1.0000,  0.0000],\n",
      "        [61.0000,  0.0000, 34.9965,  4.0000,  0.0000],\n",
      "        [43.0000,  0.0000, 25.9350,  2.0000,  1.0000]])\n",
      "targets: tensor([[ 4486.1050],\n",
      "        [ 7794.6001],\n",
      "        [10886.5039],\n",
      "        [ 2094.5015],\n",
      "        [25457.9863],\n",
      "        [ 6930.8257],\n",
      "        [10700.2236],\n",
      "        [ 1294.9724],\n",
      "        [11560.8955],\n",
      "        [ 2881.7134],\n",
      "        [ 3444.8625],\n",
      "        [21618.0156],\n",
      "        [12942.6797],\n",
      "        [39261.4375],\n",
      "        [ 2527.9148],\n",
      "        [27808.7305],\n",
      "        [ 1861.1234],\n",
      "        [ 5054.6641],\n",
      "        [51310.2109],\n",
      "        [12453.2842],\n",
      "        [41493.2383],\n",
      "        [25550.4199],\n",
      "        [62854.3594],\n",
      "        [12850.4580],\n",
      "        [ 4078.9189],\n",
      "        [10588.3506],\n",
      "        [ 2843.1851],\n",
      "        [21824.8164],\n",
      "        [13935.7598],\n",
      "        [40068.1836],\n",
      "        [12841.5771],\n",
      "        [ 2801.2207],\n",
      "        [ 1988.6901],\n",
      "        [15832.2842],\n",
      "        [20454.0000],\n",
      "        [13498.4834],\n",
      "        [15961.4668],\n",
      "        [ 2779.3828],\n",
      "        [ 2508.9473],\n",
      "        [ 8350.5547],\n",
      "        [14233.8135],\n",
      "        [ 8814.3184],\n",
      "        [41182.0156],\n",
      "        [10513.5391],\n",
      "        [20381.9473],\n",
      "        [ 8811.7959],\n",
      "        [ 7336.6108],\n",
      "        [11644.6846],\n",
      "        [ 7283.8906],\n",
      "        [ 1993.6024],\n",
      "        [31174.4883],\n",
      "        [ 4529.1343],\n",
      "        [10113.1133],\n",
      "        [36603.8750],\n",
      "        [ 7303.3081],\n",
      "        [ 6810.7983],\n",
      "        [50643.1367],\n",
      "        [ 8709.9521],\n",
      "        [13545.4453],\n",
      "        [ 8403.8203],\n",
      "        [14798.7344],\n",
      "        [ 4948.1025],\n",
      "        [12320.5342],\n",
      "        [24819.3301],\n",
      "        [ 7963.4780],\n",
      "        [ 4955.6064],\n",
      "        [22059.4199],\n",
      "        [39526.2461],\n",
      "        [ 2570.4683],\n",
      "        [ 5416.2197],\n",
      "        [32910.2773],\n",
      "        [21393.0977],\n",
      "        [ 5135.3149],\n",
      "        [32454.5684],\n",
      "        [ 5203.1782],\n",
      "        [ 7150.6240],\n",
      "        [ 5411.6401],\n",
      "        [39979.0859],\n",
      "        [19792.4141],\n",
      "        [ 2262.2769],\n",
      "        [ 9385.2080],\n",
      "        [12307.3682],\n",
      "        [24194.9902],\n",
      "        [47879.4531],\n",
      "        [ 4397.8457],\n",
      "        [19248.8125],\n",
      "        [ 9150.4004],\n",
      "        [10690.8115],\n",
      "        [14315.6699],\n",
      "        [ 5327.6670],\n",
      "        [12085.8604],\n",
      "        [ 8483.3115],\n",
      "        [19147.9102],\n",
      "        [ 1950.5706],\n",
      "        [ 6010.2803],\n",
      "        [39716.3164],\n",
      "        [ 5410.8320],\n",
      "        [26569.4629],\n",
      "        [12753.9287],\n",
      "        [ 3013.3262],\n",
      "        [ 7312.1631],\n",
      "        [13790.1826],\n",
      "        [13096.6816],\n",
      "        [38475.3320],\n",
      "        [ 2332.0813],\n",
      "        [12728.5762],\n",
      "        [16111.6631],\n",
      "        [48120.6992],\n",
      "        [ 8278.3848],\n",
      "        [ 3649.4194],\n",
      "        [ 6986.8291],\n",
      "        [31701.9473],\n",
      "        [ 8037.7319],\n",
      "        [15076.1504],\n",
      "        [12474.0303],\n",
      "        [13378.9023],\n",
      "        [10973.5488],\n",
      "        [15961.2930],\n",
      "        [ 4606.2363],\n",
      "        [16317.7852],\n",
      "        [10925.6387],\n",
      "        [15075.4248],\n",
      "        [ 9305.4961],\n",
      "        [ 7249.0054],\n",
      "        [45342.6758],\n",
      "        [14800.4775],\n",
      "        [12711.8896],\n",
      "        [ 5048.9321],\n",
      "        [27140.2539],\n",
      "        [14414.8311],\n",
      "        [ 7599.5171],\n",
      "        [50890.9648],\n",
      "        [ 1961.2032],\n",
      "        [ 2185.7429],\n",
      "        [17732.9160],\n",
      "        [ 2801.5522],\n",
      "        [ 3822.7437],\n",
      "        [10012.0146],\n",
      "        [14355.4893],\n",
      "        [ 6071.2422],\n",
      "        [11701.4639],\n",
      "        [12953.5410],\n",
      "        [28355.6582],\n",
      "        [ 8257.9473],\n",
      "        [14771.1143],\n",
      "        [ 8240.1660],\n",
      "        [23801.8145],\n",
      "        [ 5059.6201],\n",
      "        [ 4827.8169],\n",
      "        [ 7838.5957],\n",
      "        [15347.2725],\n",
      "        [ 3616.1006],\n",
      "        [ 2289.0574],\n",
      "        [ 3088.3875],\n",
      "        [54040.4219],\n",
      "        [ 5211.4106],\n",
      "        [43903.2578],\n",
      "        [10815.9141],\n",
      "        [ 2005.6453],\n",
      "        [18035.5977],\n",
      "        [16227.9824],\n",
      "        [10590.7588],\n",
      "        [11535.0029],\n",
      "        [14964.4121],\n",
      "        [11251.5840],\n",
      "        [ 7066.5771],\n",
      "        [ 5018.5454],\n",
      "        [14375.2715],\n",
      "        [12646.7305],\n",
      "        [21439.0059],\n",
      "        [15767.4717],\n",
      "        [45289.4805],\n",
      "        [ 8721.8818],\n",
      "        [13986.2412],\n",
      "        [ 9624.6406],\n",
      "        [ 7225.4062],\n",
      "        [ 3390.5037],\n",
      "        [20233.2969],\n",
      "        [ 8813.8271],\n",
      "        [42732.2734],\n",
      "        [58361.7969],\n",
      "        [10235.1309],\n",
      "        [46630.7891],\n",
      "        [48007.2969],\n",
      "        [22072.6777],\n",
      "        [12308.9629],\n",
      "        [ 1416.8102],\n",
      "        [ 3739.0500],\n",
      "        [15930.8789],\n",
      "        [16436.8398],\n",
      "        [ 5567.6074],\n",
      "        [68424.3984],\n",
      "        [ 2143.2798],\n",
      "        [ 3691.8167],\n",
      "        [31853.0684],\n",
      "        [ 8154.0454],\n",
      "        [34524.4922],\n",
      "        [ 4056.8271],\n",
      "        [13619.1533],\n",
      "        [ 6055.8735],\n",
      "        [12957.1855],\n",
      "        [ 8823.9844],\n",
      "        [ 9808.3584],\n",
      "        [ 5580.0186],\n",
      "        [32307.8145],\n",
      "        [29631.8164],\n",
      "        [ 5625.5635],\n",
      "        [ 2470.0745],\n",
      "        [ 6173.8540],\n",
      "        [ 9443.3965],\n",
      "        [ 4967.0298],\n",
      "        [24033.6621],\n",
      "        [11359.0283],\n",
      "        [47822.1367],\n",
      "        [49878.8047],\n",
      "        [ 5841.5752],\n",
      "        [ 4032.9814],\n",
      "        [41210.4102],\n",
      "        [50827.4180],\n",
      "        [ 9474.3564],\n",
      "        [ 2137.8921],\n",
      "        [11482.1426],\n",
      "        [11522.2314],\n",
      "        [ 8896.7432],\n",
      "        [55729.0547],\n",
      "        [25062.2969],\n",
      "        [14397.2490],\n",
      "        [ 5056.0073],\n",
      "        [ 2176.8613],\n",
      "        [11822.8398],\n",
      "        [41137.1484],\n",
      "        [ 6805.4844],\n",
      "        [ 1432.1809],\n",
      "        [12828.9004],\n",
      "        [13132.9141],\n",
      "        [18898.6680],\n",
      "        [12992.4658],\n",
      "        [25531.1484],\n",
      "        [ 9426.7100],\n",
      "        [52109.6367],\n",
      "        [ 2100.4717],\n",
      "        [41701.5234],\n",
      "        [24944.1348]])\n"
     ]
    }
   ],
   "source": [
    "for xb, yb in train_loader:\n",
    "    print(\"inputs:\", xb)\n",
    "    print(\"targets:\", yb)\n",
    "    break"
   ]
  },
  {
   "cell_type": "markdown",
   "metadata": {},
   "source": [
    "Let's save our work by committing to Jovian."
   ]
  },
  {
   "cell_type": "code",
   "execution_count": 123,
   "metadata": {},
   "outputs": [
    {
     "data": {
      "application/javascript": [
       "window.require && require([\"base/js/namespace\"],function(Jupyter){Jupyter.notebook.save_checkpoint()})"
      ],
      "text/plain": [
       "<IPython.core.display.Javascript object>"
      ]
     },
     "metadata": {},
     "output_type": "display_data"
    },
    {
     "name": "stdout",
     "output_type": "stream",
     "text": [
      "[jovian] Attempting to save notebook..\u001b[0m\n",
      "[jovian] Updating notebook \"nirmaldeveloper-net/02-insurance-linear-regression\" on https://jovian.ml/\u001b[0m\n",
      "[jovian] Uploading notebook..\u001b[0m\n",
      "[jovian] Committed successfully! https://jovian.ml/nirmaldeveloper-net/02-insurance-linear-regression\u001b[0m\n"
     ]
    },
    {
     "data": {
      "text/plain": [
       "'https://jovian.ml/nirmaldeveloper-net/02-insurance-linear-regression'"
      ]
     },
     "execution_count": 123,
     "metadata": {},
     "output_type": "execute_result"
    }
   ],
   "source": [
    "jovian.commit(project=project_name, environment=None)"
   ]
  },
  {
   "cell_type": "markdown",
   "metadata": {},
   "source": [
    "## Step 3: Create a Linear Regression Model\n",
    "\n",
    "Our model itself is a fairly straightforward linear regression (we'll build more complex models in the next assignment). \n"
   ]
  },
  {
   "cell_type": "code",
   "execution_count": 124,
   "metadata": {},
   "outputs": [],
   "source": [
    "input_size = len(input_cols)\n",
    "output_size = len(output_cols)"
   ]
  },
  {
   "cell_type": "markdown",
   "metadata": {},
   "source": [
    "**Q: Complete the class definition below by filling out the constructor (`__init__`), `forward`, `training_step` and `validation_step` methods.**\n",
    "\n",
    "Hint: Think carefully about picking a good loss fuction (it's not cross entropy). Maybe try 2-3 of them and see which one works best. See https://pytorch.org/docs/stable/nn.functional.html#loss-functions"
   ]
  },
  {
   "cell_type": "code",
   "execution_count": 142,
   "metadata": {},
   "outputs": [],
   "source": [
    "class InsuranceModel(nn.Module):\n",
    "    def __init__(self):\n",
    "        super().__init__()\n",
    "        self.linear = nn.Linear(input_size, output_size)                  # fill this (hint: use input_size & output_size defined above)\n",
    "        \n",
    "    def forward(self, xb):\n",
    "        out = self.linear(xb)                          # fill this\n",
    "        return out\n",
    "    \n",
    "    def training_step(self, batch):\n",
    "        inputs, targets = batch \n",
    "        # Generate predictions\n",
    "        out = self(inputs)          \n",
    "        # Calcuate loss\n",
    "        loss = F.l1_loss(out,targets)                         # fill this\n",
    "        return loss\n",
    "    \n",
    "    def validation_step(self, batch):\n",
    "        inputs, targets = batch\n",
    "        # Generate predictions\n",
    "        out = self(inputs)\n",
    "        # Calculate loss\n",
    "        loss = F.l1_loss(out,targets)                           # fill this    \n",
    "        return {'val_loss': loss.detach()}\n",
    "        \n",
    "    def validation_epoch_end(self, outputs):\n",
    "        batch_losses = [x['val_loss'] for x in outputs]\n",
    "        epoch_loss = torch.stack(batch_losses).mean()   # Combine losses\n",
    "        return {'val_loss': epoch_loss.item()}\n",
    "    \n",
    "    def epoch_end(self, epoch, result, num_epochs):\n",
    "        # Print result every 20th epoch\n",
    "        if (epoch+1) % 20 == 0 or epoch == num_epochs-1:\n",
    "            print(\"Epoch [{}], val_loss: {:.4f}\".format(epoch+1, result['val_loss']))"
   ]
  },
  {
   "cell_type": "markdown",
   "metadata": {},
   "source": [
    "Let us create a model using the `InsuranceModel` class. You may need to come back later and re-run the next cell to reinitialize the model, in case the loss becomes `nan` or `infinity`."
   ]
  },
  {
   "cell_type": "code",
   "execution_count": 143,
   "metadata": {},
   "outputs": [],
   "source": [
    "model = InsuranceModel()"
   ]
  },
  {
   "cell_type": "markdown",
   "metadata": {},
   "source": [
    "Let's check out the weights and biases of the model using `model.parameters`."
   ]
  },
  {
   "cell_type": "code",
   "execution_count": 144,
   "metadata": {},
   "outputs": [
    {
     "data": {
      "text/plain": [
       "[Parameter containing:\n",
       " tensor([[-0.0598,  0.2710,  0.1842, -0.0967, -0.3877]], requires_grad=True),\n",
       " Parameter containing:\n",
       " tensor([-0.2246], requires_grad=True)]"
      ]
     },
     "execution_count": 144,
     "metadata": {},
     "output_type": "execute_result"
    }
   ],
   "source": [
    "list(model.parameters())"
   ]
  },
  {
   "cell_type": "markdown",
   "metadata": {},
   "source": [
    "One final commit before we train the model."
   ]
  },
  {
   "cell_type": "code",
   "execution_count": 145,
   "metadata": {},
   "outputs": [
    {
     "data": {
      "application/javascript": [
       "window.require && require([\"base/js/namespace\"],function(Jupyter){Jupyter.notebook.save_checkpoint()})"
      ],
      "text/plain": [
       "<IPython.core.display.Javascript object>"
      ]
     },
     "metadata": {},
     "output_type": "display_data"
    },
    {
     "name": "stdout",
     "output_type": "stream",
     "text": [
      "[jovian] Attempting to save notebook..\u001b[0m\n",
      "[jovian] Updating notebook \"nirmaldeveloper-net/02-insurance-linear-regression\" on https://jovian.ml/\u001b[0m\n",
      "[jovian] Uploading notebook..\u001b[0m\n",
      "[jovian] Committed successfully! https://jovian.ml/nirmaldeveloper-net/02-insurance-linear-regression\u001b[0m\n"
     ]
    },
    {
     "data": {
      "text/plain": [
       "'https://jovian.ml/nirmaldeveloper-net/02-insurance-linear-regression'"
      ]
     },
     "execution_count": 145,
     "metadata": {},
     "output_type": "execute_result"
    }
   ],
   "source": [
    "jovian.commit(project=project_name, environment=None)"
   ]
  },
  {
   "cell_type": "markdown",
   "metadata": {},
   "source": [
    "## Step 4: Train the model to fit the data\n",
    "\n",
    "To train our model, we'll use the same `fit` function explained in the lecture. That's the benefit of defining a generic training loop - you can use it for any problem."
   ]
  },
  {
   "cell_type": "code",
   "execution_count": 146,
   "metadata": {},
   "outputs": [],
   "source": [
    "def evaluate(model, val_loader):\n",
    "    outputs = [model.validation_step(batch) for batch in val_loader]\n",
    "    return model.validation_epoch_end(outputs)\n",
    "\n",
    "def fit(epochs, lr, model, train_loader, val_loader, opt_func=torch.optim.SGD):\n",
    "    history = []\n",
    "    optimizer = opt_func(model.parameters(), lr)\n",
    "    for epoch in range(epochs):\n",
    "        # Training Phase \n",
    "        for batch in train_loader:\n",
    "            loss = model.training_step(batch)\n",
    "            loss.backward()\n",
    "            optimizer.step()\n",
    "            optimizer.zero_grad()\n",
    "        # Validation phase\n",
    "        result = evaluate(model, val_loader)\n",
    "        model.epoch_end(epoch, result, epochs)\n",
    "        history.append(result)\n",
    "    return history"
   ]
  },
  {
   "cell_type": "markdown",
   "metadata": {},
   "source": [
    "**Q: Use the `evaluate` function to calculate the loss on the validation set before training.**"
   ]
  },
  {
   "cell_type": "code",
   "execution_count": 147,
   "metadata": {},
   "outputs": [
    {
     "name": "stdout",
     "output_type": "stream",
     "text": [
      "{'val_loss': 15273.0478515625}\n"
     ]
    }
   ],
   "source": [
    "result = evaluate(model, val_loader) # Use the the evaluate function\n",
    "print(result)"
   ]
  },
  {
   "cell_type": "markdown",
   "metadata": {},
   "source": [
    "\n",
    "We are now ready to train the model. You may need to run the training loop many times, for different number of epochs and with different learning rates, to get a good result. Also, if your loss becomes too large (or `nan`), you may have to re-initialize the model by running the cell `model = InsuranceModel()`. Experiment with this for a while, and try to get to as low a loss as possible."
   ]
  },
  {
   "cell_type": "markdown",
   "metadata": {},
   "source": [
    "**Q: Train the model 4-5 times with different learning rates & for different number of epochs.**\n",
    "\n",
    "Hint: Vary learning rates by orders of 10 (e.g. `1e-2`, `1e-3`, `1e-4`, `1e-5`, `1e-6`) to figure out what works."
   ]
  },
  {
   "cell_type": "code",
   "execution_count": 148,
   "metadata": {},
   "outputs": [
    {
     "name": "stdout",
     "output_type": "stream",
     "text": [
      "Epoch [20], val_loss: 12681.2822\n",
      "Epoch [40], val_loss: 10688.2275\n",
      "Epoch [60], val_loss: 9444.3926\n",
      "Epoch [80], val_loss: 8736.1260\n",
      "Epoch [100], val_loss: 8382.7646\n",
      "Epoch [120], val_loss: 8222.2129\n",
      "Epoch [140], val_loss: 8146.2446\n",
      "Epoch [160], val_loss: 8104.9321\n",
      "Epoch [180], val_loss: 8074.3965\n",
      "Epoch [200], val_loss: 8052.1948\n"
     ]
    }
   ],
   "source": [
    "epochs = 200\n",
    "lr = 1e-2\n",
    "history1 = fit(epochs, lr, model, train_loader, val_loader)"
   ]
  },
  {
   "cell_type": "code",
   "execution_count": 149,
   "metadata": {},
   "outputs": [
    {
     "name": "stdout",
     "output_type": "stream",
     "text": [
      "Epoch [20], val_loss: 8050.2646\n",
      "Epoch [40], val_loss: 8048.3276\n",
      "Epoch [60], val_loss: 8046.4238\n",
      "Epoch [80], val_loss: 8044.6558\n",
      "Epoch [100], val_loss: 8042.9355\n",
      "Epoch [120], val_loss: 8041.2402\n",
      "Epoch [140], val_loss: 8039.5596\n",
      "Epoch [160], val_loss: 8037.8286\n",
      "Epoch [180], val_loss: 8036.0938\n",
      "Epoch [200], val_loss: 8034.3960\n"
     ]
    }
   ],
   "source": [
    "epochs = 200\n",
    "lr = 1e-3\n",
    "history2 = fit(epochs, lr, model, train_loader, val_loader)"
   ]
  },
  {
   "cell_type": "code",
   "execution_count": 150,
   "metadata": {},
   "outputs": [
    {
     "name": "stdout",
     "output_type": "stream",
     "text": [
      "Epoch [20], val_loss: 8034.2305\n",
      "Epoch [40], val_loss: 8034.0649\n",
      "Epoch [60], val_loss: 8033.9023\n",
      "Epoch [80], val_loss: 8033.7373\n",
      "Epoch [100], val_loss: 8033.5718\n",
      "Epoch [120], val_loss: 8033.4023\n",
      "Epoch [140], val_loss: 8033.2373\n",
      "Epoch [160], val_loss: 8033.0771\n",
      "Epoch [180], val_loss: 8032.9102\n",
      "Epoch [200], val_loss: 8032.7520\n",
      "Epoch [220], val_loss: 8032.5908\n",
      "Epoch [240], val_loss: 8032.4253\n",
      "Epoch [260], val_loss: 8032.2603\n",
      "Epoch [280], val_loss: 8032.0947\n",
      "Epoch [300], val_loss: 8031.9321\n",
      "Epoch [320], val_loss: 8031.7739\n",
      "Epoch [340], val_loss: 8031.6060\n",
      "Epoch [360], val_loss: 8031.4443\n",
      "Epoch [380], val_loss: 8031.2812\n",
      "Epoch [400], val_loss: 8031.1187\n",
      "Epoch [420], val_loss: 8030.9570\n",
      "Epoch [440], val_loss: 8030.7959\n",
      "Epoch [460], val_loss: 8030.6318\n",
      "Epoch [480], val_loss: 8030.4731\n",
      "Epoch [500], val_loss: 8030.3091\n",
      "Epoch [520], val_loss: 8030.1499\n",
      "Epoch [540], val_loss: 8029.9912\n",
      "Epoch [560], val_loss: 8029.8301\n",
      "Epoch [580], val_loss: 8029.6646\n",
      "Epoch [600], val_loss: 8029.5029\n",
      "Epoch [620], val_loss: 8029.3438\n",
      "Epoch [640], val_loss: 8029.1782\n",
      "Epoch [660], val_loss: 8029.0229\n",
      "Epoch [680], val_loss: 8028.8628\n",
      "Epoch [700], val_loss: 8028.7051\n",
      "Epoch [720], val_loss: 8028.5410\n",
      "Epoch [740], val_loss: 8028.3809\n",
      "Epoch [760], val_loss: 8028.2168\n",
      "Epoch [780], val_loss: 8028.0552\n",
      "Epoch [800], val_loss: 8027.8965\n",
      "Epoch [820], val_loss: 8027.7344\n",
      "Epoch [840], val_loss: 8027.5713\n",
      "Epoch [860], val_loss: 8027.4136\n",
      "Epoch [880], val_loss: 8027.2480\n",
      "Epoch [900], val_loss: 8027.0864\n",
      "Epoch [920], val_loss: 8026.9199\n",
      "Epoch [940], val_loss: 8026.7598\n",
      "Epoch [960], val_loss: 8026.5991\n",
      "Epoch [980], val_loss: 8026.4365\n",
      "Epoch [1000], val_loss: 8026.2729\n"
     ]
    }
   ],
   "source": [
    "epochs = 1000\n",
    "lr = 1e-4\n",
    "history3 = fit(epochs, lr, model, train_loader, val_loader)"
   ]
  },
  {
   "cell_type": "code",
   "execution_count": 151,
   "metadata": {},
   "outputs": [
    {
     "name": "stdout",
     "output_type": "stream",
     "text": [
      "Epoch [20], val_loss: 8026.2568\n",
      "Epoch [40], val_loss: 8026.2407\n",
      "Epoch [60], val_loss: 8026.2227\n",
      "Epoch [80], val_loss: 8026.2070\n",
      "Epoch [100], val_loss: 8026.1919\n",
      "Epoch [120], val_loss: 8026.1743\n",
      "Epoch [140], val_loss: 8026.1592\n",
      "Epoch [160], val_loss: 8026.1445\n",
      "Epoch [180], val_loss: 8026.1274\n",
      "Epoch [200], val_loss: 8026.1123\n",
      "Epoch [220], val_loss: 8026.0972\n",
      "Epoch [240], val_loss: 8026.0806\n",
      "Epoch [260], val_loss: 8026.0615\n",
      "Epoch [280], val_loss: 8026.0479\n",
      "Epoch [300], val_loss: 8026.0308\n",
      "Epoch [320], val_loss: 8026.0151\n",
      "Epoch [340], val_loss: 8025.9966\n",
      "Epoch [360], val_loss: 8025.9785\n",
      "Epoch [380], val_loss: 8025.9634\n",
      "Epoch [400], val_loss: 8025.9473\n",
      "Epoch [420], val_loss: 8025.9316\n",
      "Epoch [440], val_loss: 8025.9165\n",
      "Epoch [460], val_loss: 8025.9009\n",
      "Epoch [480], val_loss: 8025.8862\n",
      "Epoch [500], val_loss: 8025.8687\n",
      "Epoch [520], val_loss: 8025.8521\n",
      "Epoch [540], val_loss: 8025.8350\n",
      "Epoch [560], val_loss: 8025.8213\n",
      "Epoch [580], val_loss: 8025.8042\n",
      "Epoch [600], val_loss: 8025.7886\n",
      "Epoch [620], val_loss: 8025.7725\n",
      "Epoch [640], val_loss: 8025.7559\n",
      "Epoch [660], val_loss: 8025.7388\n",
      "Epoch [680], val_loss: 8025.7207\n",
      "Epoch [700], val_loss: 8025.7041\n",
      "Epoch [720], val_loss: 8025.6895\n",
      "Epoch [740], val_loss: 8025.6738\n",
      "Epoch [760], val_loss: 8025.6567\n",
      "Epoch [780], val_loss: 8025.6406\n",
      "Epoch [800], val_loss: 8025.6230\n",
      "Epoch [820], val_loss: 8025.6089\n",
      "Epoch [840], val_loss: 8025.5908\n",
      "Epoch [860], val_loss: 8025.5747\n",
      "Epoch [880], val_loss: 8025.5601\n",
      "Epoch [900], val_loss: 8025.5439\n",
      "Epoch [920], val_loss: 8025.5278\n",
      "Epoch [940], val_loss: 8025.5127\n",
      "Epoch [960], val_loss: 8025.4946\n",
      "Epoch [980], val_loss: 8025.4800\n",
      "Epoch [1000], val_loss: 8025.4619\n"
     ]
    }
   ],
   "source": [
    "epochs = 1000\n",
    "lr = 1e-5\n",
    "history4 = fit(epochs, lr, model, train_loader, val_loader)"
   ]
  },
  {
   "cell_type": "code",
   "execution_count": 152,
   "metadata": {},
   "outputs": [
    {
     "name": "stdout",
     "output_type": "stream",
     "text": [
      "Epoch [20], val_loss: 8025.4614\n",
      "Epoch [40], val_loss: 8025.4604\n",
      "Epoch [60], val_loss: 8025.4604\n",
      "Epoch [80], val_loss: 8025.4604\n",
      "Epoch [100], val_loss: 8025.4590\n",
      "Epoch [120], val_loss: 8025.4590\n",
      "Epoch [140], val_loss: 8025.4575\n",
      "Epoch [160], val_loss: 8025.4561\n",
      "Epoch [180], val_loss: 8025.4561\n",
      "Epoch [200], val_loss: 8025.4551\n",
      "Epoch [220], val_loss: 8025.4541\n",
      "Epoch [240], val_loss: 8025.4526\n",
      "Epoch [260], val_loss: 8025.4536\n",
      "Epoch [280], val_loss: 8025.4526\n",
      "Epoch [300], val_loss: 8025.4521\n",
      "Epoch [320], val_loss: 8025.4512\n",
      "Epoch [340], val_loss: 8025.4507\n",
      "Epoch [360], val_loss: 8025.4492\n",
      "Epoch [380], val_loss: 8025.4473\n",
      "Epoch [400], val_loss: 8025.4468\n",
      "Epoch [420], val_loss: 8025.4468\n",
      "Epoch [440], val_loss: 8025.4458\n",
      "Epoch [460], val_loss: 8025.4448\n",
      "Epoch [480], val_loss: 8025.4443\n",
      "Epoch [500], val_loss: 8025.4443\n",
      "Epoch [520], val_loss: 8025.4443\n",
      "Epoch [540], val_loss: 8025.4429\n",
      "Epoch [560], val_loss: 8025.4414\n",
      "Epoch [580], val_loss: 8025.4414\n",
      "Epoch [600], val_loss: 8025.4409\n",
      "Epoch [620], val_loss: 8025.4399\n",
      "Epoch [640], val_loss: 8025.4385\n",
      "Epoch [660], val_loss: 8025.4395\n",
      "Epoch [680], val_loss: 8025.4375\n",
      "Epoch [700], val_loss: 8025.4365\n",
      "Epoch [720], val_loss: 8025.4355\n",
      "Epoch [740], val_loss: 8025.4355\n",
      "Epoch [760], val_loss: 8025.4346\n",
      "Epoch [780], val_loss: 8025.4346\n",
      "Epoch [800], val_loss: 8025.4341\n",
      "Epoch [820], val_loss: 8025.4331\n",
      "Epoch [840], val_loss: 8025.4321\n",
      "Epoch [860], val_loss: 8025.4307\n",
      "Epoch [880], val_loss: 8025.4302\n",
      "Epoch [900], val_loss: 8025.4287\n",
      "Epoch [920], val_loss: 8025.4277\n",
      "Epoch [940], val_loss: 8025.4263\n",
      "Epoch [960], val_loss: 8025.4258\n",
      "Epoch [980], val_loss: 8025.4243\n",
      "Epoch [1000], val_loss: 8025.4238\n"
     ]
    }
   ],
   "source": [
    "epochs = 1000\n",
    "lr = 1e-6\n",
    "history5 = fit(epochs, lr, model, train_loader, val_loader)"
   ]
  },
  {
   "cell_type": "code",
   "execution_count": 173,
   "metadata": {},
   "outputs": [
    {
     "name": "stdout",
     "output_type": "stream",
     "text": [
      "Epoch [20], val_loss: 8025.4238\n",
      "Epoch [40], val_loss: 8025.4238\n",
      "Epoch [60], val_loss: 8025.4238\n",
      "Epoch [80], val_loss: 8025.4238\n",
      "Epoch [100], val_loss: 8025.4238\n",
      "Epoch [120], val_loss: 8025.4238\n",
      "Epoch [140], val_loss: 8025.4238\n",
      "Epoch [160], val_loss: 8025.4238\n",
      "Epoch [180], val_loss: 8025.4238\n",
      "Epoch [200], val_loss: 8025.4238\n",
      "Epoch [220], val_loss: 8025.4238\n",
      "Epoch [240], val_loss: 8025.4238\n",
      "Epoch [260], val_loss: 8025.4238\n",
      "Epoch [280], val_loss: 8025.4238\n",
      "Epoch [300], val_loss: 8025.4238\n",
      "Epoch [320], val_loss: 8025.4238\n",
      "Epoch [340], val_loss: 8025.4238\n",
      "Epoch [360], val_loss: 8025.4238\n",
      "Epoch [380], val_loss: 8025.4238\n",
      "Epoch [400], val_loss: 8025.4238\n",
      "Epoch [420], val_loss: 8025.4238\n",
      "Epoch [440], val_loss: 8025.4238\n",
      "Epoch [460], val_loss: 8025.4238\n",
      "Epoch [480], val_loss: 8025.4238\n",
      "Epoch [500], val_loss: 8025.4238\n",
      "Epoch [520], val_loss: 8025.4238\n",
      "Epoch [540], val_loss: 8025.4238\n",
      "Epoch [560], val_loss: 8025.4238\n",
      "Epoch [580], val_loss: 8025.4238\n",
      "Epoch [600], val_loss: 8025.4238\n",
      "Epoch [620], val_loss: 8025.4238\n",
      "Epoch [640], val_loss: 8025.4238\n",
      "Epoch [660], val_loss: 8025.4238\n",
      "Epoch [680], val_loss: 8025.4238\n",
      "Epoch [700], val_loss: 8025.4238\n",
      "Epoch [720], val_loss: 8025.4238\n",
      "Epoch [740], val_loss: 8025.4238\n",
      "Epoch [760], val_loss: 8025.4238\n",
      "Epoch [780], val_loss: 8025.4238\n",
      "Epoch [800], val_loss: 8025.4238\n",
      "Epoch [820], val_loss: 8025.4238\n",
      "Epoch [840], val_loss: 8025.4238\n",
      "Epoch [860], val_loss: 8025.4238\n",
      "Epoch [880], val_loss: 8025.4238\n",
      "Epoch [900], val_loss: 8025.4238\n",
      "Epoch [920], val_loss: 8025.4238\n",
      "Epoch [940], val_loss: 8025.4238\n",
      "Epoch [960], val_loss: 8025.4238\n",
      "Epoch [980], val_loss: 8025.4238\n",
      "Epoch [1000], val_loss: 8025.4238\n"
     ]
    }
   ],
   "source": [
    "epochs = 1000\n",
    "lr = 1e-7\n",
    "history6 = fit(epochs, lr, model, train_loader, val_loader)"
   ]
  },
  {
   "cell_type": "code",
   "execution_count": 171,
   "metadata": {},
   "outputs": [
    {
     "name": "stdout",
     "output_type": "stream",
     "text": [
      "Epoch [20], val_loss: 8025.4238\n",
      "Epoch [40], val_loss: 8025.4238\n",
      "Epoch [60], val_loss: 8025.4238\n",
      "Epoch [80], val_loss: 8025.4238\n",
      "Epoch [100], val_loss: 8025.4238\n",
      "Epoch [120], val_loss: 8025.4238\n",
      "Epoch [140], val_loss: 8025.4238\n",
      "Epoch [160], val_loss: 8025.4238\n",
      "Epoch [180], val_loss: 8025.4238\n",
      "Epoch [200], val_loss: 8025.4238\n",
      "Epoch [220], val_loss: 8025.4238\n",
      "Epoch [240], val_loss: 8025.4238\n",
      "Epoch [260], val_loss: 8025.4238\n",
      "Epoch [280], val_loss: 8025.4238\n",
      "Epoch [300], val_loss: 8025.4238\n",
      "Epoch [320], val_loss: 8025.4238\n",
      "Epoch [340], val_loss: 8025.4238\n",
      "Epoch [360], val_loss: 8025.4238\n",
      "Epoch [380], val_loss: 8025.4238\n",
      "Epoch [400], val_loss: 8025.4238\n",
      "Epoch [420], val_loss: 8025.4238\n",
      "Epoch [440], val_loss: 8025.4238\n",
      "Epoch [460], val_loss: 8025.4238\n",
      "Epoch [480], val_loss: 8025.4238\n",
      "Epoch [500], val_loss: 8025.4238\n",
      "Epoch [520], val_loss: 8025.4238\n",
      "Epoch [540], val_loss: 8025.4238\n",
      "Epoch [560], val_loss: 8025.4238\n",
      "Epoch [580], val_loss: 8025.4238\n",
      "Epoch [600], val_loss: 8025.4238\n",
      "Epoch [620], val_loss: 8025.4238\n",
      "Epoch [640], val_loss: 8025.4238\n",
      "Epoch [660], val_loss: 8025.4238\n",
      "Epoch [680], val_loss: 8025.4238\n",
      "Epoch [700], val_loss: 8025.4238\n",
      "Epoch [720], val_loss: 8025.4238\n",
      "Epoch [740], val_loss: 8025.4238\n",
      "Epoch [760], val_loss: 8025.4238\n",
      "Epoch [780], val_loss: 8025.4238\n",
      "Epoch [800], val_loss: 8025.4238\n",
      "Epoch [820], val_loss: 8025.4238\n",
      "Epoch [840], val_loss: 8025.4238\n",
      "Epoch [860], val_loss: 8025.4238\n",
      "Epoch [880], val_loss: 8025.4238\n",
      "Epoch [900], val_loss: 8025.4238\n",
      "Epoch [920], val_loss: 8025.4238\n",
      "Epoch [940], val_loss: 8025.4238\n",
      "Epoch [960], val_loss: 8025.4238\n",
      "Epoch [980], val_loss: 8025.4238\n",
      "Epoch [1000], val_loss: 8025.4238\n"
     ]
    }
   ],
   "source": [
    "epochs = 1000\n",
    "lr = 1e-8\n",
    "history7 = fit(epochs, lr, model, train_loader, val_loader)"
   ]
  },
  {
   "cell_type": "code",
   "execution_count": 174,
   "metadata": {},
   "outputs": [
    {
     "data": {
      "text/plain": [
       "[<matplotlib.lines.Line2D at 0x7f8745ea7350>]"
      ]
     },
     "execution_count": 174,
     "metadata": {},
     "output_type": "execute_result"
    },
    {
     "data": {
      "image/png": "[encoded data removed]",
      "text/plain": [
       "<Figure size 432x288 with 1 Axes>"
      ]
     },
     "metadata": {
      "needs_background": "light"
     },
     "output_type": "display_data"
    }
   ],
   "source": [
    "history = [result] + history1 +history2 + history3 + history4 + history5 + history6 + history7 \n",
    "loss_trend = [loss_result['val_loss'] for loss_result in history]\n",
    "plt.plot(loss_trend, 'x-')"
   ]
  },
  {
   "cell_type": "markdown",
   "metadata": {},
   "source": [
    "**Q: What is the final validation loss of your model?**"
   ]
  },
  {
   "cell_type": "code",
   "execution_count": 175,
   "metadata": {},
   "outputs": [
    {
     "data": {
      "text/plain": [
       "8025.423828125"
      ]
     },
     "execution_count": 175,
     "metadata": {},
     "output_type": "execute_result"
    }
   ],
   "source": [
    "val_loss = loss_trend[-1]\n",
    "val_loss"
   ]
  },
  {
   "cell_type": "markdown",
   "metadata": {},
   "source": [
    "Let's log the final validation loss to Jovian and commit the notebook"
   ]
  },
  {
   "cell_type": "code",
   "execution_count": 176,
   "metadata": {},
   "outputs": [
    {
     "name": "stdout",
     "output_type": "stream",
     "text": [
      "[jovian] Metrics logged.\u001b[0m\n"
     ]
    }
   ],
   "source": [
    "jovian.log_metrics(val_loss=val_loss)"
   ]
  },
  {
   "cell_type": "code",
   "execution_count": 177,
   "metadata": {},
   "outputs": [
    {
     "data": {
      "application/javascript": [
       "window.require && require([\"base/js/namespace\"],function(Jupyter){Jupyter.notebook.save_checkpoint()})"
      ],
      "text/plain": [
       "<IPython.core.display.Javascript object>"
      ]
     },
     "metadata": {},
     "output_type": "display_data"
    },
    {
     "name": "stdout",
     "output_type": "stream",
     "text": [
      "[jovian] Attempting to save notebook..\u001b[0m\n",
      "[jovian] Updating notebook \"nirmaldeveloper-net/02-insurance-linear-regression\" on https://jovian.ml/\u001b[0m\n",
      "[jovian] Uploading notebook..\u001b[0m\n",
      "[jovian] Attaching records (metrics, hyperparameters, dataset etc.)\u001b[0m\n",
      "[jovian] Committed successfully! https://jovian.ml/nirmaldeveloper-net/02-insurance-linear-regression\u001b[0m\n"
     ]
    },
    {
     "data": {
      "text/plain": [
       "'https://jovian.ml/nirmaldeveloper-net/02-insurance-linear-regression'"
      ]
     },
     "execution_count": 177,
     "metadata": {},
     "output_type": "execute_result"
    }
   ],
   "source": [
    "jovian.commit(project=project_name, environment=None)"
   ]
  },
  {
   "cell_type": "markdown",
   "metadata": {},
   "source": [
    "Now scroll back up, re-initialize the model, and try different set of values for batch size, number of epochs, learning rate etc. Commit each experiment and use the \"Compare\" and \"View Diff\" options on Jovian to compare the different results."
   ]
  },
  {
   "cell_type": "markdown",
   "metadata": {},
   "source": [
    "## Step 5: Make predictions using the trained model\n",
    "\n",
    "**Q: Complete the following function definition to make predictions on a single input**"
   ]
  },
  {
   "cell_type": "code",
   "execution_count": 178,
   "metadata": {},
   "outputs": [],
   "source": [
    "def predict_single(input, target, model):\n",
    "    inputs = input.unsqueeze(0)\n",
    "    predictions = model(inputs)                # fill this\n",
    "    prediction = predictions[0].detach()\n",
    "    print(\"Input:\", input)\n",
    "    print(\"Target:\", target)\n",
    "    print(\"Prediction:\", prediction)"
   ]
  },
  {
   "cell_type": "code",
   "execution_count": 179,
   "metadata": {},
   "outputs": [
    {
     "name": "stdout",
     "output_type": "stream",
     "text": [
      "Input: tensor([47.0000,  1.0000, 20.1495,  1.0000,  0.0000])\n",
      "Target: tensor([9835.3965])\n",
      "Prediction: tensor([9896.1963])\n"
     ]
    }
   ],
   "source": [
    "input, target = val_ds[0]\n",
    "predict_single(input, target, model)"
   ]
  },
  {
   "cell_type": "code",
   "execution_count": 180,
   "metadata": {},
   "outputs": [
    {
     "name": "stdout",
     "output_type": "stream",
     "text": [
      "Input: tensor([26.0000,  1.0000, 21.8400,  0.0000,  0.0000])\n",
      "Target: tensor([2624.6221])\n",
      "Prediction: tensor([6400.4688])\n"
     ]
    }
   ],
   "source": [
    "input, target = val_ds[10]\n",
    "predict_single(input, target, model)"
   ]
  },
  {
   "cell_type": "code",
   "execution_count": 181,
   "metadata": {},
   "outputs": [
    {
     "name": "stdout",
     "output_type": "stream",
     "text": [
      "Input: tensor([40.0000,  0.0000, 30.1245,  3.0000,  0.0000])\n",
      "Target: tensor([9188.0342])\n",
      "Prediction: tensor([9555.7949])\n"
     ]
    }
   ],
   "source": [
    "input, target = val_ds[23]\n",
    "predict_single(input, target, model)"
   ]
  },
  {
   "cell_type": "markdown",
   "metadata": {},
   "source": [
    "Are you happy with your model's predictions? Try to improve them further."
   ]
  },
  {
   "cell_type": "markdown",
   "metadata": {},
   "source": [
    "## (Optional) Step 6: Try another dataset & blog about it\n",
    "\n",
    "While this last step is optional for the submission of your assignment, we highly recommend that you do it. Try to clean up & replicate this notebook (or [this one](https://jovian.ml/aakashns/housing-linear-minimal), or [this one](https://jovian.ml/aakashns/mnist-logistic-minimal) ) for a different linear regression or logistic regression problem. This will help solidify your understanding, and give you a chance to differentiate the generic patters in machine learning from problem-specific details.\n",
    "\n",
    "Here are some sources to find good datasets:\n",
    "\n",
    "- https://lionbridge.ai/datasets/10-open-datasets-for-linear-regression/\n",
    "- https://www.kaggle.com/rtatman/datasets-for-regression-analysis\n",
    "- https://archive.ics.uci.edu/ml/datasets.php?format=&task=reg&att=&area=&numAtt=&numIns=&type=&sort=nameUp&view=table\n",
    "- https://people.sc.fsu.edu/~jburkardt/datasets/regression/regression.html\n",
    "- https://archive.ics.uci.edu/ml/datasets/wine+quality\n",
    "- https://pytorch.org/docs/stable/torchvision/datasets.html\n",
    "\n",
    "We also recommend that you write a blog about your approach to the problem. Here is a suggested structure for your post (feel free to experiment with it):\n",
    "\n",
    "- Interesting title & subtitle\n",
    "- Overview of what the blog covers (which dataset, linear regression or logistic regression, intro to PyTorch)\n",
    "- Downloading & exploring the data\n",
    "- Preparing the data for training\n",
    "- Creating a model using PyTorch\n",
    "- Training the model to fit the data\n",
    "- Your thoughts on how to experiment with different hyperparmeters to reduce loss\n",
    "- Making predictions using the model\n",
    "\n",
    "As with the previous assignment, you can [embed Juptyer notebook cells & outputs from Jovian](https://medium.com/jovianml/share-and-embed-jupyter-notebooks-online-with-jovian-ml-df709a03064e) into your blog. \n",
    "\n",
    "Don't forget to share your work on the forum: https://jovian.ml/forum/t/share-your-work-here-assignment-2/4931"
   ]
  },
  {
   "cell_type": "code",
   "execution_count": null,
   "metadata": {},
   "outputs": [
    {
     "data": {
      "application/javascript": [
       "window.require && require([\"base/js/namespace\"],function(Jupyter){Jupyter.notebook.save_checkpoint()})"
      ],
      "text/plain": [
       "<IPython.core.display.Javascript object>"
      ]
     },
     "metadata": {},
     "output_type": "display_data"
    },
    {
     "name": "stdout",
     "output_type": "stream",
     "text": [
      "[jovian] Attempting to save notebook..\u001b[0m\n",
      "[jovian] Updating notebook \"nirmaldeveloper-net/02-insurance-linear-regression\" on https://jovian.ml/\u001b[0m\n",
      "[jovian] Uploading notebook..\u001b[0m\n",
      "[jovian] Attaching records (metrics, hyperparameters, dataset etc.)\u001b[0m\n",
      "[jovian] Committed successfully! https://jovian.ml/nirmaldeveloper-net/02-insurance-linear-regression\u001b[0m\n"
     ]
    },
    {
     "data": {
      "application/javascript": [
       "window.require && require([\"base/js/namespace\"],function(Jupyter){Jupyter.notebook.save_checkpoint()})"
      ],
      "text/plain": [
       "<IPython.core.display.Javascript object>"
      ]
     },
     "metadata": {},
     "output_type": "display_data"
    },
    {
     "name": "stdout",
     "output_type": "stream",
     "text": [
      "[jovian] Attempting to save notebook..\u001b[0m\n"
     ]
    }
   ],
   "source": [
    "jovian.commit(project=project_name, environment=None)\n",
    "jovian.commit(project=project_name, environment=None) # try again, kaggle fails sometimes"
   ]
  },
  {
   "cell_type": "code",
   "execution_count": null,
   "metadata": {},
   "outputs": [],
   "source": []
  }
 ],
 "metadata": {
  "kernelspec": {
   "display_name": "Python 3",
   "language": "python",
   "name": "python3"
  },
  "language_info": {
   "codemirror_mode": {
    "name": "ipython",
    "version": 3
   },
   "file_extension": ".py",
   "mimetype": "text/x-python",
   "name": "python",
   "nbconvert_exporter": "python",
   "pygments_lexer": "ipython3",
   "version": "3.6.4"
  }
 },
 "nbformat": 4,
 "nbformat_minor": 4
}
